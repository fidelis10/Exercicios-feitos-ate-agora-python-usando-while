{
  "nbformat": 4,
  "nbformat_minor": 0,
  "metadata": {
    "colab": {
      "provenance": []
    },
    "kernelspec": {
      "name": "python3",
      "display_name": "Python 3"
    },
    "language_info": {
      "name": "python"
    }
  },
  "cells": [
    {
      "cell_type": "code",
      "execution_count": null,
      "metadata": {
        "colab": {
          "base_uri": "https://localhost:8080/"
        },
        "id": "MMToitqa-35w",
        "outputId": "7bf772c6-37c3-44e6-acbd-9d458f3e746a"
      },
      "outputs": [
        {
          "output_type": "stream",
          "name": "stdout",
          "text": [
            "Digite uma  nota entre 0 e 10: 98\n",
            "Digite uma nota valida: 98\n",
            "Digite uma nota valida: 98\n",
            "Digite uma nota valida: 98\n",
            "Digite uma nota valida: 98\n",
            "Digite uma nota valida: 9\n",
            "Sucesso\n"
          ]
        }
      ],
      "source": [
        "nota = float(input(\"Digite uma  nota entre 0 e 10: \"))\n",
        "while nota > 10 or nota < 0:\n",
        "  nota = float(input(\"Digite uma nota valida: \"))\n",
        "print(\"Sucesso\")"
      ]
    },
    {
      "cell_type": "code",
      "source": [
        "numero = float(input(\"Digite um numero: \"))\n",
        "contador = 1\n",
        "while contador <=10 :\n",
        "  resultado = numero * contador\n",
        "  print(f\"{numero} x {contador} = {resultado} \")\n",
        "  contador += 1"
      ],
      "metadata": {
        "colab": {
          "base_uri": "https://localhost:8080/"
        },
        "id": "UkFBD1Ym_qvQ",
        "outputId": "446a41ad-e1a1-4c5c-85c4-29af38ca5717"
      },
      "execution_count": null,
      "outputs": [
        {
          "output_type": "stream",
          "name": "stdout",
          "text": [
            "Digite um numero: 5\n",
            "5.0 x 1 = 5.0 \n",
            "5.0 x 2 = 10.0 \n",
            "5.0 x 3 = 15.0 \n",
            "5.0 x 4 = 20.0 \n",
            "5.0 x 5 = 25.0 \n",
            "5.0 x 6 = 30.0 \n",
            "5.0 x 7 = 35.0 \n",
            "5.0 x 8 = 40.0 \n",
            "5.0 x 9 = 45.0 \n",
            "5.0 x 10 = 50.0 \n"
          ]
        }
      ]
    },
    {
      "cell_type": "markdown",
      "source": [
        "Faça um programa que peça uma nota, entre zero e dez. Mostre uma\n",
        "mensagem caso o valor seja inválido e continue pedindo até que o usuário\n",
        "informe um valor válido."
      ],
      "metadata": {
        "id": "Q13Fnz9QFWoI"
      }
    },
    {
      "cell_type": "code",
      "source": [
        "nota = float(input(\"Digite uma  nota entre 0 e 10: \"))\n",
        "while nota > 10 or nota < 0:\n",
        "  print(\"Valor invalido\")\n",
        "  nota = float(input(\"Digite uma nota valida: \"))\n",
        "print(\"Valor valido\")"
      ],
      "metadata": {
        "colab": {
          "base_uri": "https://localhost:8080/"
        },
        "id": "H4MeDud5FXFV",
        "outputId": "8fab4463-e7af-45a1-de75-f6452af83f29"
      },
      "execution_count": null,
      "outputs": [
        {
          "output_type": "stream",
          "name": "stdout",
          "text": [
            "Digite uma  nota entre 0 e 10: 11\n",
            "Valor invalido\n",
            "Digite uma nota valida: 12\n",
            "Valor invalido\n",
            "Digite uma nota valida: 13\n",
            "Valor invalido\n",
            "Digite uma nota valida: 9\n",
            "Valor valido\n"
          ]
        }
      ]
    },
    {
      "cell_type": "markdown",
      "source": [
        "Faça um programa que leia um nome de usuário e a sua senha e não aceite a\n",
        "senha igual ao nome do usuário, mostrando uma mensagem de erro e voltando\n",
        "a pedir as informações.\n"
      ],
      "metadata": {
        "id": "SYEVwcAXF2IB"
      }
    },
    {
      "cell_type": "code",
      "source": [
        "nomeusuario = input(\"Escreva o nome do seu usuario: \")\n",
        "senha = input(\"Escreva a senha do usuario: \")\n",
        "while senha == nomeusuario :\n",
        " print(\"Erro\")\n",
        " senha = input(\"Escreva uma senha valida\")\n",
        "print(\"Sucesso\")"
      ],
      "metadata": {
        "colab": {
          "base_uri": "https://localhost:8080/"
        },
        "id": "z8-1d0ueF_Jl",
        "outputId": "edaa94a7-d04a-45b3-b5b4-a9068b3893f2"
      },
      "execution_count": null,
      "outputs": [
        {
          "output_type": "stream",
          "name": "stdout",
          "text": [
            "Escreva o nome do seu usuario: fidelis\n",
            "Escreva a senha do usuario: fidelis\n",
            "Erro\n",
            "Escreva uma senha validafidelis\n",
            "Erro\n",
            "Escreva uma senha validalucas\n",
            "Sucesso\n"
          ]
        }
      ]
    },
    {
      "cell_type": "markdown",
      "source": [
        "Escreva um programa que conte de 1 a 10 e imprima cada número."
      ],
      "metadata": {
        "id": "sUDzqXTKG58S"
      }
    },
    {
      "cell_type": "code",
      "source": [
        "numero = 0\n",
        "while numero < 10 :\n",
        " numero += 1\n",
        " print(numero)"
      ],
      "metadata": {
        "colab": {
          "base_uri": "https://localhost:8080/"
        },
        "id": "WhCzlI-ZG8eo",
        "outputId": "0ebb7f82-5cbd-4c91-e424-71e484d239d1"
      },
      "execution_count": null,
      "outputs": [
        {
          "output_type": "stream",
          "name": "stdout",
          "text": [
            "1\n",
            "2\n",
            "3\n",
            "4\n",
            "5\n",
            "6\n",
            "7\n",
            "8\n",
            "9\n",
            "10\n"
          ]
        }
      ]
    },
    {
      "cell_type": "markdown",
      "source": [
        "Escreva um programa que imprima os números pares de 1 a 20."
      ],
      "metadata": {
        "id": "rkBmGr8eI2uI"
      }
    },
    {
      "cell_type": "code",
      "source": [
        "numero = 0\n",
        "while numero < 20 :\n",
        " numero += 2\n",
        " print(numero)"
      ],
      "metadata": {
        "colab": {
          "base_uri": "https://localhost:8080/"
        },
        "id": "R1uDqG9uI3Fc",
        "outputId": "7920d7c3-2553-4bbc-a73a-64a375407f4c"
      },
      "execution_count": null,
      "outputs": [
        {
          "output_type": "stream",
          "name": "stdout",
          "text": [
            "2\n",
            "4\n",
            "6\n",
            "8\n",
            "10\n",
            "12\n",
            "14\n",
            "16\n",
            "18\n",
            "20\n"
          ]
        }
      ]
    },
    {
      "cell_type": "markdown",
      "source": [
        "Escreva um programa que solicite ao usuário que insira um número e, em\n",
        "seguida, imprima todos os números de 1 até esse número.\n"
      ],
      "metadata": {
        "id": "ZfNcc0MiJE5J"
      }
    },
    {
      "cell_type": "code",
      "source": [
        "numero = float(input(\"Digite o valor de um numero: \"))\n",
        "contador = 1\n",
        "while numero >= contador :\n",
        " print(contador)\n",
        " contador += 1"
      ],
      "metadata": {
        "colab": {
          "base_uri": "https://localhost:8080/"
        },
        "id": "jzicW0LvJHjS",
        "outputId": "e7effe88-6e79-47e8-ab82-61e6a455d068"
      },
      "execution_count": null,
      "outputs": [
        {
          "output_type": "stream",
          "name": "stdout",
          "text": [
            "Digite o valor de um numero: 7\n",
            "1\n",
            "2\n",
            "3\n",
            "4\n",
            "5\n",
            "6\n",
            "7\n"
          ]
        }
      ]
    },
    {
      "cell_type": "markdown",
      "source": [
        "Escreva um programa que solicite ao usuário que insira um número e, em seguida, imprima todos os números pares de 2 até esse número."
      ],
      "metadata": {
        "id": "rBAmXTZ5LtcQ"
      }
    },
    {
      "cell_type": "code",
      "source": [
        "numero = float(input(\"Digite um numero: \"))\n",
        "contador = 2\n",
        "while numero >= contador :\n",
        " print(contador)\n",
        " contador += 2"
      ],
      "metadata": {
        "colab": {
          "base_uri": "https://localhost:8080/"
        },
        "id": "GdV7cG1XLwHA",
        "outputId": "85ae3998-acc1-4fe1-ebdc-7b5871cd4f6b"
      },
      "execution_count": null,
      "outputs": [
        {
          "output_type": "stream",
          "name": "stdout",
          "text": [
            "Digite um numero: 20\n",
            "2\n",
            "4\n",
            "6\n",
            "8\n",
            "10\n",
            "12\n",
            "14\n",
            "16\n",
            "18\n",
            "20\n"
          ]
        }
      ]
    },
    {
      "cell_type": "markdown",
      "source": [
        "Escreva um programa que solicite ao usuário que insira um número e, em\n",
        "seguida, imprima a tabuada desse número até 10.\n"
      ],
      "metadata": {
        "id": "D3t1shW3MKc0"
      }
    },
    {
      "cell_type": "code",
      "source": [
        "numero = float(input(\"Digite um numero: \"))\n",
        "contador = 1\n",
        "while contador <=10 :\n",
        "  resultado = numero * contador\n",
        "  print(f\"{numero} x {contador} = {resultado} \")\n",
        "  contador += 1"
      ],
      "metadata": {
        "colab": {
          "base_uri": "https://localhost:8080/"
        },
        "id": "qvYoWWRqMMPI",
        "outputId": "bac70c21-da6b-4f7f-fd46-e0807200fccb"
      },
      "execution_count": null,
      "outputs": [
        {
          "output_type": "stream",
          "name": "stdout",
          "text": [
            "Digite um numero: 5\n",
            "5.0 x 1 = 5.0 \n",
            "5.0 x 2 = 10.0 \n",
            "5.0 x 3 = 15.0 \n",
            "5.0 x 4 = 20.0 \n",
            "5.0 x 5 = 25.0 \n",
            "5.0 x 6 = 30.0 \n",
            "5.0 x 7 = 35.0 \n",
            "5.0 x 8 = 40.0 \n",
            "5.0 x 9 = 45.0 \n",
            "5.0 x 10 = 50.0 \n"
          ]
        }
      ]
    },
    {
      "cell_type": "markdown",
      "source": [
        "Escreva um programa que solicite ao usuário que insira uma senha. O\n",
        "programa deve continuar solicitando a senha até que o usuário insira a senha\n",
        "correta.\n"
      ],
      "metadata": {
        "id": "Vmf0CEbmMy01"
      }
    },
    {
      "cell_type": "code",
      "source": [
        "senha = 40028922\n",
        "senha2 = int(input(\"Digite a senha: \"))\n",
        "while senha2 != senha :\n",
        " print(\"Senha incorreta\")\n",
        " senha2 = int(input(\"Digite a senha correta: \"))\n",
        "print(\"Senha correta\")"
      ],
      "metadata": {
        "colab": {
          "base_uri": "https://localhost:8080/"
        },
        "id": "YSXwu3K3MzHE",
        "outputId": "db6489aa-ee8e-4b4d-b043-cdda9c8e3242"
      },
      "execution_count": null,
      "outputs": [
        {
          "output_type": "stream",
          "name": "stdout",
          "text": [
            "Digite a senha: 8\n",
            "Senha incorreta\n",
            "Digite a senha correta: 424\n",
            "Senha incorreta\n",
            "Digite a senha correta: 40028922\n",
            "Senha correta\n"
          ]
        }
      ]
    },
    {
      "cell_type": "markdown",
      "source": [
        "Escreva um programa que calcule a média de uma lista de números fornecida\n",
        "pelo usuário"
      ],
      "metadata": {
        "id": "JhoTFHwKNZf0"
      }
    },
    {
      "cell_type": "code",
      "source": [
        "soma = 0\n",
        "contador = 0\n",
        "quantosnumeros = int(input(\"Digite quantos numeros voce quer digitar \"))\n",
        "while contador < quantosnumeros :\n",
        "  numeros = int(input(\"Digite os numeros\"))\n",
        "  soma += numeros\n",
        "  contador += 1\n",
        "media = soma / quantosnumeros\n",
        "print(media)"
      ],
      "metadata": {
        "colab": {
          "base_uri": "https://localhost:8080/"
        },
        "id": "8uIV_P45NZ71",
        "outputId": "cb73653e-62a6-49d7-fe4c-c62e5d356378"
      },
      "execution_count": 90,
      "outputs": [
        {
          "output_type": "stream",
          "name": "stdout",
          "text": [
            "Digite quantos numeros voce quer digitar 3\n",
            "Digite os numeros20\n",
            "Digite os numeros20\n",
            "Digite os numeros20\n",
            "20.0\n"
          ]
        }
      ]
    },
    {
      "cell_type": "markdown",
      "source": [
        "Escreva um programa que solicite ao usuário que insira números até que ele\n",
        "insira o número 0. Em seguida, imprima a soma de todos os números inseridos"
      ],
      "metadata": {
        "id": "T8PoFDpOZMbk"
      }
    },
    {
      "cell_type": "code",
      "source": [
        "soma = 0\n",
        "numero = 1\n",
        "while numero != 0 :\n",
        " numero = float(input(\"Digite um numero\"))\n",
        " soma += numero\n",
        "print(soma)"
      ],
      "metadata": {
        "colab": {
          "base_uri": "https://localhost:8080/"
        },
        "id": "pFyDEfCYZGsg",
        "outputId": "d75504d2-bcf8-4084-e88c-7081120a4bb7"
      },
      "execution_count": 97,
      "outputs": [
        {
          "output_type": "stream",
          "name": "stdout",
          "text": [
            "Digite um numero10\n",
            "Digite um numero10\n",
            "Digite um numero10\n",
            "Digite um numero0\n",
            "30.0\n"
          ]
        }
      ]
    },
    {
      "cell_type": "markdown",
      "source": [
        "Escreva um programa que solicite ao usuário que insira números até que ele\n",
        "insira um número negativo. Em seguida, imprima o maior número inserido."
      ],
      "metadata": {
        "id": "vaDoSkpWbmBo"
      }
    },
    {
      "cell_type": "code",
      "source": [
        "maiornumerao = 0\n",
        "numerinhos = float(input(\"Digite um numero\"))\n",
        "while numerinhos >= 0 :\n",
        " numerinhos = float(input(\"Digite um numero\"))\n",
        " if numerinhos > maiornumerao :\n",
        "  maiornumerao = numerinhos\n",
        "print(maiornumerao)"
      ],
      "metadata": {
        "colab": {
          "base_uri": "https://localhost:8080/"
        },
        "id": "mVZsPxMibqTq",
        "outputId": "ecb76356-4b35-4276-e553-820629f7d683"
      },
      "execution_count": 93,
      "outputs": [
        {
          "output_type": "stream",
          "name": "stdout",
          "text": [
            "Digite um numero20\n",
            "Digite um numero2\n",
            "Digite um numero2\n",
            "Digite um numero3\n",
            "Digite um numero544\n",
            "Digite um numero53\n",
            "Digite um numero-1\n",
            "544.0\n"
          ]
        }
      ]
    }
  ]
}