{
  "cells": [
    {
      "cell_type": "code",
      "execution_count": null,
      "metadata": {
        "id": "2HYMYCP7Q3q6"
      },
      "outputs": [],
      "source": []
    },
    {
      "cell_type": "markdown",
      "metadata": {
        "id": "eE4CEWPZV4H6"
      },
      "source": [
        "Faça um programa que peça uma nota, entre zero e dez. Mostre uma mensagem\n",
        "caso o valor seja inválido e continue pedindo até que o usuário informe um valor\n",
        "válido."
      ]
    },
    {
      "cell_type": "code",
      "execution_count": null,
      "metadata": {
        "id": "6UvzrGIJV4es",
        "colab": {
          "base_uri": "https://localhost:8080/"
        },
        "outputId": "ab34ab23-73ed-41bd-d8aa-09c9fcb136bd"
      },
      "outputs": [
        {
          "output_type": "stream",
          "name": "stdout",
          "text": [
            "Digite uma  nota entre 0 e 10: -1\n",
            "Digite uma nota valida: -3\n",
            "Digite uma nota valida: 5\n",
            "Sucesso\n"
          ]
        }
      ],
      "source": [
        "nota = float(input(\"Digite uma  nota entre 0 e 10: \"))\n",
        "while nota > 10 or nota < 0:\n",
        "  nota = float(input(\"Digite uma nota valida: \"))\n",
        "print(\"Sucesso\")"
      ]
    },
    {
      "cell_type": "markdown",
      "metadata": {
        "id": "OQeAmG_aV80R"
      },
      "source": [
        "Faça um programa que calcule o mostre a média aritmética de N notas."
      ]
    },
    {
      "cell_type": "code",
      "execution_count": null,
      "metadata": {
        "colab": {
          "base_uri": "https://localhost:8080/"
        },
        "id": "ndAi17xjV-pI",
        "outputId": "4c3afcfb-8716-465f-bd4e-5a83a1467f95"
      },
      "outputs": [
        {
          "name": "stdout",
          "output_type": "stream",
          "text": [
            "Digite quantos numeros voce quer digitar 5\n",
            "Digite os numeros10\n",
            "Digite os numeros10\n",
            "Digite os numeros10\n",
            "Digite os numeros12\n",
            "Digite os numeros13\n",
            "11.0\n"
          ]
        }
      ],
      "source": [
        "soma = 0\n",
        "contador = 0\n",
        "quantosnumeros = int(input(\"Digite quantos numeros voce quer digitar \"))\n",
        "while contador < quantosnumeros :\n",
        "  numeros = int(input(\"Digite os numeros\"))\n",
        "  soma += numeros\n",
        "  contador += 1\n",
        "mediaaritmetica = soma / quantosnumeros\n",
        "print(mediaaritmetica)"
      ]
    },
    {
      "cell_type": "markdown",
      "metadata": {
        "id": "rg6v0I6PWuCa"
      },
      "source": [
        "Faça um programa que leia um nome de usuário e a sua senha e não aceite a\n",
        "senha igual ao nome do usuário, mostrando uma mensagem de erro e voltando a\n",
        "pedir as informações."
      ]
    },
    {
      "cell_type": "code",
      "execution_count": null,
      "metadata": {
        "colab": {
          "base_uri": "https://localhost:8080/"
        },
        "id": "T267XtzfWxaG",
        "outputId": "ba321748-9641-466b-de1d-e5461ea65868"
      },
      "outputs": [
        {
          "name": "stdout",
          "output_type": "stream",
          "text": [
            "Digite o nome do seu usuariofidelis\n",
            "Digite a senha: fidelis\n",
            "Erro\n",
            "Digite a senha correta: fidelis\n",
            "Erro\n",
            "Digite a senha correta: fidelis\n",
            "Erro\n",
            "Digite a senha correta: Fidelis\n",
            "Senha correta\n"
          ]
        }
      ],
      "source": [
        "nomedousuario = input(\"Digite o nome do seu usuario\")\n",
        "senha = (input(\"Digite a senha: \"))\n",
        "while senha == nomedousuario :\n",
        " print(\"Erro\")\n",
        " senha = (input(\"Digite a senha correta: \"))\n",
        "print(\"Senha correta\")"
      ]
    },
    {
      "cell_type": "markdown",
      "metadata": {
        "id": "gMMEbur_XTv1"
      },
      "source": [
        "Um funcionário de uma empresa recebe aumento salarial anualmente.\n",
        "Sabe-se que: Esse funcionário foi contratado em 1995, com salário inicial de R$\n",
        "1.000,00; Em 1996 recebeu aumento de 1,5% sobre seu salário inicial; A partir de\n",
        "1997 (inclusive), os aumentos salariais sempre correspondem ao dobro do\n",
        "percentual do ano anterior. Faça um programa que determine o salário atual desse\n",
        "funcionário. Após concluir isto, altere o programa permitindo que o usuário digite o salário inicial do funcionário."
      ]
    },
    {
      "cell_type": "code",
      "execution_count": 1,
      "metadata": {
        "colab": {
          "base_uri": "https://localhost:8080/"
        },
        "id": "3zBMcmahXak1",
        "outputId": "bed1353d-c779-4e70-e783-c6bcf1f4a57c"
      },
      "outputs": [
        {
          "output_type": "stream",
          "name": "stdout",
          "text": [
            "Digite o ano atual: 2024\n",
            "O salario no ano de 1996 e de 1015.0\n",
            "O salario no ano de 1997 e de 1045.45\n",
            "O salario no ano de 1998 e de 1108.1770000000001\n",
            "O salario no ano de 1999 e de 1241.1582400000002\n",
            "O salario no ano de 2000 e de 1539.0362176000003\n",
            "O salario no ano de 2001 e de 2277.7736020480006\n",
            "O salario no ano de 2002 e de 4464.436260014081\n",
            "O salario no ano de 2003 e de 13036.153879241117\n",
            "O salario no ano de 2004 e de 63094.984775527\n",
            "O salario no ano de 2005 e de 547664.4678515744\n",
            "O salario no ano de 2006 e de 8959790.694051756\n",
            "O salario no ano de 2007 e de 284204560.8153217\n",
            "O salario no ano de 2008 e de 17745732777.308685\n",
            "O salario no ano de 2009 e de 2198341376452.9998\n",
            "O salario no ano de 2010 e de 542462718053542.2\n",
            "O salario no ano de 2011 e de 2.671737378957306e+17\n",
            "O salario no ano de 2012 e de 2.629096450389147e+20\n",
            "O salario no ano de 2013 e de 5.171643045631483e+23\n",
            "O salario no ano de 2014 e de 2.0340899561355924e+27\n",
            "O salario no ano de 2015 e de 1.5998768413792397e+31\n",
            "O salario no ano de 2016 e de 2.5165486759232543e+35\n",
            "O salario no ano de 2017 e de 7.9166292880823e+39\n",
            "O salario no ano de 2018 e de 4.980791649720992e+44\n",
            "O salario no ano de 2019 e de 6.267336109793905e+49\n",
            "O salario no ano de 2020 e de 1.5772330422152905e+55\n",
            "O salario no ano de 2021 e de 7.938489601805336e+60\n",
            "O salario no ano de 2022 e de 7.991153224284129e+66\n",
            "O salario no ano de 2023 e de 1.6088324439102575e+73\n",
            "O salario no ano de 2024 e de 6.47801666946211e+79\n"
          ]
        }
      ],
      "source": [
        "salario = 1000\n",
        "anoatual = int(input(\"Digite o ano atual: \"))\n",
        "anoprimeirosalario = 1995\n",
        "porcentagemsalarial = 1.5 / 100\n",
        "while anoprimeirosalario < anoatual:\n",
        "  aumento = salario * porcentagemsalarial\n",
        "  porcentagemsalarial *= 2\n",
        "  salario += aumento\n",
        "  anoprimeirosalario += 1\n",
        "  print(f\"O salario no ano de {anoprimeirosalario} e de {salario}\")"
      ]
    },
    {
      "cell_type": "code",
      "execution_count": 2,
      "metadata": {
        "colab": {
          "base_uri": "https://localhost:8080/"
        },
        "id": "TwB-0kFOgT8Q",
        "outputId": "6530a82b-dec6-4c76-ce3a-3084ed11c32b"
      },
      "outputs": [
        {
          "output_type": "stream",
          "name": "stdout",
          "text": [
            "Digite seu salario2000\n",
            "Digite o ano atual: 2024\n",
            "O salario no ano de 1996 e de 2030.0\n",
            "O salario no ano de 1997 e de 2090.9\n",
            "O salario no ano de 1998 e de 2216.3540000000003\n",
            "O salario no ano de 1999 e de 2482.3164800000004\n",
            "O salario no ano de 2000 e de 3078.0724352000007\n",
            "O salario no ano de 2001 e de 4555.547204096001\n",
            "O salario no ano de 2002 e de 8928.872520028162\n",
            "O salario no ano de 2003 e de 26072.307758482235\n",
            "O salario no ano de 2004 e de 126189.969551054\n",
            "O salario no ano de 2005 e de 1095328.9357031488\n",
            "O salario no ano de 2006 e de 17919581.38810351\n",
            "O salario no ano de 2007 e de 568409121.6306434\n",
            "O salario no ano de 2008 e de 35491465554.61737\n",
            "O salario no ano de 2009 e de 4396682752905.9995\n",
            "O salario no ano de 2010 e de 1084925436107084.4\n",
            "O salario no ano de 2011 e de 5.343474757914612e+17\n",
            "O salario no ano de 2012 e de 5.258192900778294e+20\n",
            "O salario no ano de 2013 e de 1.0343286091262966e+24\n",
            "O salario no ano de 2014 e de 4.0681799122711847e+27\n",
            "O salario no ano de 2015 e de 3.1997536827584793e+31\n",
            "O salario no ano de 2016 e de 5.033097351846509e+35\n",
            "O salario no ano de 2017 e de 1.58332585761646e+40\n",
            "O salario no ano de 2018 e de 9.961583299441985e+44\n",
            "O salario no ano de 2019 e de 1.253467221958781e+50\n",
            "O salario no ano de 2020 e de 3.154466084430581e+55\n",
            "O salario no ano de 2021 e de 1.5876979203610672e+61\n",
            "O salario no ano de 2022 e de 1.5982306448568258e+67\n",
            "O salario no ano de 2023 e de 3.217664887820515e+73\n",
            "O salario no ano de 2024 e de 1.295603333892422e+80\n"
          ]
        }
      ],
      "source": [
        "salario = float(input(\"Digite seu salario\"))\n",
        "anoatual = int(input(\"Digite o ano atual: \"))\n",
        "anoprimeirosalario = 1995\n",
        "porcentagemsalarial = 1.5 / 100\n",
        "while anoprimeirosalario < anoatual:\n",
        "  aumento = salario * porcentagemsalarial\n",
        "  porcentagemsalarial *= 2\n",
        "  salario += aumento\n",
        "  anoprimeirosalario += 1\n",
        "  print(f\"O salario no ano de {anoprimeirosalario} e de {salario}\")"
      ]
    },
    {
      "cell_type": "markdown",
      "metadata": {
        "id": "JMJowRVifwoB"
      },
      "source": [
        "Faça um programa que leia e valide as seguintes informações:\n",
        "Nome: maior que 3 caracteres;\n",
        "Idade: entre 0 e 150;\n",
        "Salário: maior que zero;\n",
        "Sexo: 'f' ou 'm';\n",
        "Estado Civil: 's', 'c', 'v', 'd';:\n",
        "\n"
      ]
    },
    {
      "cell_type": "code",
      "execution_count": null,
      "metadata": {
        "colab": {
          "base_uri": "https://localhost:8080/"
        },
        "id": "dn5zWcFvfxLZ",
        "outputId": "3c664dbb-faee-4c96-ce02-6fa8dd4ddb83"
      },
      "outputs": [
        {
          "output_type": "stream",
          "name": "stdout",
          "text": [
            "Digite o seu nome: fidelis\n",
            "Digite sua idade: 27\n",
            "Digite o seu salario: 1000\n",
            "Digite seu sexo, sendo f para feminino e m para masculino: f\n",
            "Digite seu estado civil, sendo s para solteiro, c para casado, v para viuvo e d para divorciadoc\n",
            "Cadastro Correto\n"
          ]
        }
      ],
      "source": [
        "Nome = input(\"Digite o seu nome: \")\n",
        "while len(Nome) <=3 :\n",
        "  Nome = input(\"Digite o seu nome novamente: \")\n",
        "idade = float(input(\"Digite sua idade: \"))\n",
        "while idade < 0 or idade > 150 :\n",
        "  idade = float(input(\"Digite sua idade novamente: \"))\n",
        "salario = float(input(\"Digite o seu salario: \"))\n",
        "while salario <= 0 :\n",
        "  salario = float(input(\"Digite o seu salario novamente: \"))\n",
        "sexo = input(\"Digite seu sexo, sendo f para feminino e m para masculino: \")\n",
        "while sexo != \"f\" and sexo != \"m\":\n",
        "  sexo = input(\"Digite novamente seu sexo, sendo f para feminino e m para masculino: \")\n",
        "Estadocivil = input(\"Digite seu estado civil, sendo s para solteiro, c para casado, v para viuvo e d para divorciado\")\n",
        "while Estadocivil != \"s\" and Estadocivil != \"c\" and Estadocivil != \"v\" and Estadocivil != \"d\" :\n",
        "  Estadocivil = input(\"Digite novamente seu estado civil, sendo s para solteiro, c para casado, v para viuvo e d para divorciado: \")\n",
        "print(\"Cadastro Correto\")"
      ]
    },
    {
      "cell_type": "markdown",
      "source": [
        "Supondo que a população de um país A seja da ordem de 80000 habitantes com\n",
        "uma taxa anual de crescimento de 3% e que a população de B seja 200000\n",
        "habitantes com uma taxa de crescimento de 1.5%. Faça um programa que calcule e\n",
        "escreva o número de anos necessários para que a população do país A ultrapasse\n",
        "ou iguale a população do país B, mantidas as taxas de crescimento."
      ],
      "metadata": {
        "id": "z9S4noB8DQb1"
      }
    },
    {
      "cell_type": "code",
      "source": [
        "paisA = 80000\n",
        "paisB = 200000\n",
        "porcentagemdecrescimentopaisa = 3 / 100\n",
        "porcentagemdecrescimentopaisb = 1.5 / 100\n",
        "contador = 0\n",
        "while paisA < paisB:\n",
        "  paisA += paisA * porcentagemdecrescimentopaisa\n",
        "  paisB += paisB * porcentagemdecrescimentopaisb\n",
        "  contador += 1\n",
        "print(f\"Ira demorar {contador} anos para o pais A passar o pais B em populacao\")"
      ],
      "metadata": {
        "colab": {
          "base_uri": "https://localhost:8080/"
        },
        "id": "WJnSGhAvDj27",
        "outputId": "f5574a95-9079-47d8-8738-f5c2efdf86d6"
      },
      "execution_count": null,
      "outputs": [
        {
          "output_type": "stream",
          "name": "stdout",
          "text": [
            "Ira demorar 63 anos para o pais A passar o pais B em populacao\n"
          ]
        }
      ]
    },
    {
      "cell_type": "markdown",
      "source": [
        "Faça um programa que calcule o fatorial de um número inteiro fornecido pelo usuário. Ex.: 5!=5.4.3.2.1=120"
      ],
      "metadata": {
        "id": "-ubCRgnYDlST"
      }
    },
    {
      "cell_type": "code",
      "source": [
        "numero = int(input(\"Digite um numero: \"))\n",
        "fatorial = 1\n",
        "contador = 2\n",
        "while contador <= numero :\n",
        " fatorial = fatorial * contador\n",
        " contador = contador + 1\n",
        "print(fatorial)"
      ],
      "metadata": {
        "colab": {
          "base_uri": "https://localhost:8080/"
        },
        "id": "S9sf-LaEDm0E",
        "outputId": "454d69fe-72d4-481f-d840-3128cf48a8f4"
      },
      "execution_count": null,
      "outputs": [
        {
          "output_type": "stream",
          "name": "stdout",
          "text": [
            "Digite um numero: 5\n",
            "120\n"
          ]
        }
      ]
    },
    {
      "cell_type": "markdown",
      "source": [
        "A série de Fibonacci é formada pela sequência 1,1,2,3,5,8,13,21,34,55,... Faça um\n"
      ],
      "metadata": {
        "id": "kgGe5lwvDoQa"
      }
    },
    {
      "cell_type": "code",
      "source": [
        "numero = int(input(\"Digite quantos numeros voce quer: \"))\n",
        "numeroanterior = 1\n",
        "numeroatual = 1\n",
        "contador = 0\n",
        "while contador < numero :\n",
        " proximonumero = numeroanterior + numeroatual\n",
        " print(proximonumero)\n",
        " numeroanterior = numeroatual\n",
        " numeroatual = proximonumero\n",
        " contador += 1"
      ],
      "metadata": {
        "colab": {
          "base_uri": "https://localhost:8080/"
        },
        "id": "YWItG-YTDrF8",
        "outputId": "acf79759-b90e-43f5-acbd-d8a40000e8d7"
      },
      "execution_count": null,
      "outputs": [
        {
          "output_type": "stream",
          "name": "stdout",
          "text": [
            "Digite quantos numeros voce quer: 10\n",
            "2\n",
            "3\n",
            "5\n",
            "8\n",
            "13\n",
            "21\n",
            "34\n",
            "55\n",
            "89\n",
            "144\n"
          ]
        }
      ]
    },
    {
      "cell_type": "markdown",
      "source": [
        "O Sr. Manoel Joaquim expandiu seus negócios para além dos negócios de 1,99 e agora possui uma loja de conveniências. Faça um programa que implemente uma caixa registradora rudimentar. O programa deverá receber um número desconhecido de valores referentes aos preços das mercadorias. Um valor zero deve ser informado pelo operador para indicar o final da compra. O programa deve então mostrar o total da compra e perguntar o valor em dinheiro que o cliente forneceu, para então calcular e mostrar o valor do troco. Após esta operação, o programa deverá voltar ao ponto inicial, para registrar a próxima compra. A saída deve ser conforme o exemplo abaixo: Lojas Tabajara Produto 1: R 2.20Produto2:R  5.80 Produto 3: R 0Total:R  9.00 Dinheiro: R 20.00Troco:R  11.00\n",
        "\n"
      ],
      "metadata": {
        "id": "LFeRib7_DvjL"
      }
    },
    {
      "cell_type": "code",
      "source": [
        "total = 0\n",
        "Produtos = 1\n",
        "while Produtos != 0 :\n",
        "  Produtos = float(input(f\"Digite o preço dos produto\"))\n",
        "  total += Produtos\n",
        "dinheiro = int(input(\"Digite quanto voce tem de dinheiro: \"))\n",
        "troco = dinheiro - total\n",
        "print(f\"O total ficou de {total}\")\n",
        "print(f\"O seu troco ficou no valor de {troco}\")"
      ],
      "metadata": {
        "colab": {
          "base_uri": "https://localhost:8080/"
        },
        "id": "LYJnTODMDyYF",
        "outputId": "025c39a3-bb5f-4475-8882-e00445e4ea1a"
      },
      "execution_count": null,
      "outputs": [
        {
          "output_type": "stream",
          "name": "stdout",
          "text": [
            "Digite o preço dos produto54\n",
            "Digite o preço dos produto6\n",
            "Digite o preço dos produto60\n",
            "Digite o preço dos produto6\n",
            "Digite o preço dos produto54\n",
            "Digite o preço dos produto30\n",
            "Digite o preço dos produto15\n",
            "Digite o preço dos produto5\n",
            "Digite o preço dos produto0\n",
            "Digite quanto voce tem de dinheiro: 50\n",
            "O total ficou de 230.0\n",
            "O seu troco ficou no valor de -180.0\n"
          ]
        }
      ]
    },
    {
      "cell_type": "markdown",
      "source": [
        "O cardápio de uma lanchonete é o seguinte: Especificação Código Preço Cachorro Quente 100 R 1,20BauruSimples101R  1,30 Bauru com ovo 102 R 1,50Hamburguer103R  1,20 Cheeseburguer 104 R 1,30Refrigerante105R  1,00 Faça um programa que leia o código dos itens pedidos e as quantidades desejadas. Calcule e mostre o valor a ser pago por item (preço * quantidade) e o total geral do pedido. Considere que o cliente deve informar quando o pedido deve ser encerrado."
      ],
      "metadata": {
        "id": "UMSv5LsRDzpn"
      }
    },
    {
      "cell_type": "code",
      "source": [
        "print(\"Cachorro Quente 100     R$ 1.20\")\n",
        "print(\"Bauru Simples   101     R$ 1.30\")\n",
        "print(\"Bauru com ovo   102     R$ 1.50\")\n",
        "print(\"Hamburguer      103     R$ 1.20\")\n",
        "print(\"Cheeseburguer   104     R$ 1.30\")\n",
        "print(\"Refrigerante    105     R$ 1.00\")\n",
        "total2 = 0\n",
        "codigodoitem = 1\n",
        "while codigodoitem != 0 :\n",
        "  codigodoitem = int(input(\"Digite o codigo do item que voce vai comprar\"))\n",
        "  quantidade = int(input(\"Digite a quantidade desse item\"))\n",
        "  if codigodoitem == 100:\n",
        "    preco = 1.20\n",
        "    alimento = \"Cachorro Quente\"\n",
        "    total = preco * quantidade\n",
        "    print(f\"O preco total do cachorro quente ficou em {total:.2f} reais\")\n",
        "\n",
        "  elif codigodoitem == 101:\n",
        "    preco = 1.30\n",
        "    alimento = \"Bauru Simples\"\n",
        "    total = preco * quantidade\n",
        "    print(f\"O preco total do Bauru Simples ficou em {total:.2f} reais\")\n",
        "\n",
        "  elif codigodoitem == 102:\n",
        "    preco = 1.50\n",
        "    alimento = \"Bauru com ovo\"\n",
        "    total = preco * quantidade\n",
        "    print(f\"O preco total do Bauru com ovo ficou em {total:.2f} reais\")\n",
        "\n",
        "  elif codigodoitem == 103:\n",
        "    preco = 1.20\n",
        "    alimento = \"Hamburguer\"\n",
        "    total = preco * quantidade\n",
        "    print(f\"O preco total do Hamburguer ficou em {total:.2f} reais\")\n",
        "\n",
        "  elif codigodoitem == 104:\n",
        "    preco = 1.30\n",
        "    alimento = \"Cheeseburguer\"\n",
        "    total = preco * quantidade\n",
        "    print(f\"O preco total do Cheeseburguer ficou em {total:.2f} reais\")\n",
        "\n",
        "  elif codigodoitem == 105:\n",
        "    preco = 1.00\n",
        "    alimento = \"Refrigerante\"\n",
        "    total = preco * quantidade\n",
        "    print(f\"O preco total do Refrigerante ficou em {total:.2f} reais\")\n",
        "  else :\n",
        "    print(\"O codigo digitado e incorreto\")\n",
        "    break\n",
        "\n",
        "  total2 += total\n",
        "print(f\"O total da compra foi de {total2:.2f} reais\")"
      ],
      "metadata": {
        "colab": {
          "base_uri": "https://localhost:8080/"
        },
        "id": "CxInvIyhD1P3",
        "outputId": "efb70346-64f7-4ac3-b04a-b82f78b744bd"
      },
      "execution_count": null,
      "outputs": [
        {
          "output_type": "stream",
          "name": "stdout",
          "text": [
            "Cachorro Quente 100     R$ 1.20\n",
            "Bauru Simples   101     R$ 1.30\n",
            "Bauru com ovo   102     R$ 1.50\n",
            "Hamburguer      103     R$ 1.20\n",
            "Cheeseburguer   104     R$ 1.30\n",
            "Refrigerante    105     R$ 1.00\n",
            "Digite o codigo do item que voce vai comprar100\n",
            "Digite a quantidade desse item3\n",
            "O preco total do cachorro quente ficou em 3.60 reais\n",
            "Digite o codigo do item que voce vai comprar102\n",
            "Digite a quantidade desse item4\n",
            "O preco total do Bauru com ovo ficou em 6.00 reais\n",
            "Digite o codigo do item que voce vai comprar103\n",
            "Digite a quantidade desse item6\n",
            "O preco total do Hamburguer ficou em 7.20 reais\n",
            "Digite o codigo do item que voce vai comprar0\n",
            "Digite a quantidade desse item0\n",
            "O codigo digitado e incorreto\n",
            "O total da compra foi de 16.80 reais\n"
          ]
        }
      ]
    },
    {
      "cell_type": "markdown",
      "source": [
        "Em uma eleição presidencial existem quatro candidatos. Os votos são informados por meio de código. Os códigos utilizados são:  1, 2, 3, 4 - Votos para os respectivos candidatos  (você deve montar a tabela ex: 1 - Jose/ 2- João/etc)  5 - Voto Nulo  6 - Voto em Branco Faça um programa que calcule e mostre:  O total de votos para cada candidato;  O total de votos nulos;  O total de votos em branco;  A percentagem de votos nulos sobre o total de votos;  A percentagem de votos em branco sobre o total de votos. Para finalizar o conjunto de votos tem-se o valor zero."
      ],
      "metadata": {
        "id": "sxUJj4_OD4Rg"
      }
    },
    {
      "cell_type": "code",
      "source": [
        "votoJose = 0\n",
        "votoJoao = 0\n",
        "votoPaulinhoOLoko = 0\n",
        "votoBento = 0\n",
        "votonulo = 0\n",
        "votoembranco = 0\n",
        "print(\"Candidato Jose                  1               \")\n",
        "print(\"Candidato João                  2               \")\n",
        "print(\"Candidato Paulinho O Loko       3               \")\n",
        "print(\"Candidato Bento                 4               \")\n",
        "print(\"Voto Nulo                       5               \")\n",
        "print(\"Voto em Branco                  6               \")\n",
        "votos2 = int(input(\"Digite quantos votos vão ter: \"))\n",
        "contador = 0\n",
        "while contador < votos2 :\n",
        "  voto = int(input(\"Digite em quem voce vai votar\"))\n",
        "  contador += 1\n",
        "  if voto == 1 :\n",
        "    votoJose += 1\n",
        "  elif voto == 2 :\n",
        "    votoJoao += 1\n",
        "  elif voto == 3 :\n",
        "    votoPaulinhoOLoko += 1\n",
        "  elif voto == 4 :\n",
        "    votoBento += 1\n",
        "  elif voto == 5 :\n",
        "    votonulo += 1\n",
        "  elif voto == 6 :\n",
        "    votoembranco += 1\n",
        "  else :\n",
        "    print(\"Digite o numero do candidato correto\")\n",
        "  porcentagemdevotosnulos = (votonulo / votos2) * 100\n",
        "  porcentagemdevotosembranco = (votoembranco / votos2) * 100\n",
        "print(f\"Teve {votoJose} votos no candidato Jose\")\n",
        "print(f\"Teve {votoJoao} votos no candidato Joao\")\n",
        "print(f\"Teve {votoPaulinhoOLoko} votos no candidato Paulinho O Loko\")\n",
        "print(f\"Teve {votoBento} votos no candidato Bento\")\n",
        "print(f\"Teve {votonulo} votos nulos\")\n",
        "print(f\"Teve {votoembranco} votos em branco\")\n",
        "print(f\"A porcentagem de votos nulos é de {porcentagemdevotosnulos} %\")\n",
        "print(f\"A porcentagem de votos em branco é de {porcentagemdevotosembranco} %\")"
      ],
      "metadata": {
        "colab": {
          "base_uri": "https://localhost:8080/"
        },
        "id": "tglNSy8zD6KZ",
        "outputId": "8578e97c-121f-4e95-d002-0302795030d6"
      },
      "execution_count": null,
      "outputs": [
        {
          "output_type": "stream",
          "name": "stdout",
          "text": [
            "Candidato Jose                  1               \n",
            "Candidato João                  2               \n",
            "Candidato Paulinho O Loko       3               \n",
            "Candidato Bento                 4               \n",
            "Voto Nulo                       5               \n",
            "Voto em Branco                  6               \n",
            "Digite quantos votos vão ter: 30\n",
            "Digite em quem voce vai votar1\n",
            "Digite em quem voce vai votar1\n",
            "Digite em quem voce vai votar1\n",
            "Digite em quem voce vai votar1\n",
            "Digite em quem voce vai votar1\n",
            "Digite em quem voce vai votar2\n",
            "Digite em quem voce vai votar2\n",
            "Digite em quem voce vai votar2\n",
            "Digite em quem voce vai votar2\n",
            "Digite em quem voce vai votar2\n",
            "Digite em quem voce vai votar3\n",
            "Digite em quem voce vai votar3\n",
            "Digite em quem voce vai votar3\n",
            "Digite em quem voce vai votar3\n",
            "Digite em quem voce vai votar3\n",
            "Digite em quem voce vai votar4\n",
            "Digite em quem voce vai votar4\n",
            "Digite em quem voce vai votar4\n",
            "Digite em quem voce vai votar4\n",
            "Digite em quem voce vai votar4\n",
            "Digite em quem voce vai votar5\n",
            "Digite em quem voce vai votar5\n",
            "Digite em quem voce vai votar5\n",
            "Digite em quem voce vai votar5\n",
            "Digite em quem voce vai votar5\n",
            "Digite em quem voce vai votar6\n",
            "Digite em quem voce vai votar6\n",
            "Digite em quem voce vai votar6\n",
            "Digite em quem voce vai votar6\n",
            "Digite em quem voce vai votar6\n",
            "Teve 5 votos no candidato Jose\n",
            "Teve 5 votos no candidato Joao\n",
            "Teve 5 votos no candidato Paulinho O Loko\n",
            "Teve 5 votos no candidato Bento\n",
            "Teve 5 votos nulos\n",
            "Teve 5 votos em branco\n",
            "A porcentagem de votos nulos é de 16.666666666666664 %\n",
            "A porcentagem de votos em branco é de 16.666666666666664 %\n"
          ]
        }
      ]
    },
    {
      "cell_type": "markdown",
      "source": [
        "Faça um programa que solicite ao usuário números indefinidamente até que ele\n",
        "digite 0. Em seguida, o programa deve imprimir a média dos números digitados."
      ],
      "metadata": {
        "id": "wM22MEPEF1DA"
      }
    },
    {
      "cell_type": "code",
      "source": [
        "soma = 0\n",
        "contador = 0\n",
        "numero = 1\n",
        "while numero != 0 :\n",
        " numero = int(input(\"Digite um numero: \"))\n",
        " soma += numero\n",
        " contador += 1\n",
        "media = soma / contador\n",
        "print(f\"A media entre esses numeros é de {media}\")"
      ],
      "metadata": {
        "colab": {
          "base_uri": "https://localhost:8080/"
        },
        "id": "ZP6R4wl5GF_G",
        "outputId": "b20acf91-4194-496e-b4fe-19de956d8d3b"
      },
      "execution_count": null,
      "outputs": [
        {
          "output_type": "stream",
          "name": "stdout",
          "text": [
            "Digite um numero: 5\n",
            "Digite um numero: 5\n",
            "Digite um numero: 5\n",
            "Digite um numero: 5\n",
            "Digite um numero: 0\n",
            "A media entre esses numeros é de 4.0\n"
          ]
        }
      ]
    }
  ],
  "metadata": {
    "colab": {
      "provenance": []
    },
    "kernelspec": {
      "display_name": "Python 3",
      "name": "python3"
    },
    "language_info": {
      "name": "python"
    }
  },
  "nbformat": 4,
  "nbformat_minor": 0
}